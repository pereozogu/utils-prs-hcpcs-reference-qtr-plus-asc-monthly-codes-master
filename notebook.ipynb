{
 "cells": [
  {
   "cell_type": "code",
   "execution_count": 1,
   "metadata": {},
   "outputs": [],
   "source": [
    "import pandas as pd"
   ]
  },
  {
   "cell_type": "code",
   "execution_count": 11,
   "metadata": {},
   "outputs": [],
   "source": [
    "df = pd.read_excel(\"data/2020/10/hcpc/anweb.xlsx\", usecols=\"A,D:AV\", parse_dates=True,\n",
    "    na_values=[\"NA\", \"0\"], header=10,\n",
    ").dropna(how='all')"
   ]
  },
  {
   "cell_type": "code",
   "execution_count": 20,
   "metadata": {},
   "outputs": [],
   "source": [
    "df.loc[:, 'ADD DT'] = df['ADD DT'].astype(str).apply(lambda s: s.replace('.0',''))"
   ]
  },
  {
   "cell_type": "code",
   "execution_count": 24,
   "metadata": {},
   "outputs": [],
   "source": [
    "def convert_dates_to_text(float_input: float):\n",
    "    text = float_input.astype(str).apply(lambda s: s.replace('.0',''))\n",
    "    return text.apply(lambda t: t[:4] + '-' + t[4:6] + '-' + t[6:8])"
   ]
  },
  {
   "cell_type": "code",
   "execution_count": 31,
   "metadata": {},
   "outputs": [],
   "source": [
    "df[['ADD DT', 'ACT EFF DT', 'TERM DT']] = df[['ADD DT', 'ACT EFF DT', 'TERM DT']].apply(lambda s: convert_dates_to_text(s))"
   ]
  },
  {
   "cell_type": "code",
   "execution_count": 32,
   "metadata": {},
   "outputs": [
    {
     "data": {
      "text/plain": [
       "nan--         6568\n",
       "2014-12-31     158\n",
       "2016-12-31     143\n",
       "2015-12-31     110\n",
       "2019-12-31      79\n",
       "2018-12-31      45\n",
       "2017-12-31      39\n",
       "2019-09-30      16\n",
       "2020-06-30       9\n",
       "2015-06-30       4\n",
       "2018-03-31       4\n",
       "2019-06-30       4\n",
       "2020-09-30       4\n",
       "2016-09-30       3\n",
       "2016-06-30       3\n",
       "2012-03-31       2\n",
       "2018-06-30       1\n",
       "2016-02-29       1\n",
       "2014-06-30       1\n",
       "2015-03-31       1\n",
       "2020-03-31       1\n",
       "2017-06-30       1\n",
       "Name: TERM DT, dtype: int64"
      ]
     },
     "execution_count": 32,
     "metadata": {},
     "output_type": "execute_result"
    }
   ],
   "source": [
    "df['TERM DT'].value_counts()"
   ]
  },
  {
   "cell_type": "code",
   "execution_count": null,
   "metadata": {},
   "outputs": [],
   "source": []
  }
 ],
 "metadata": {
  "kernelspec": {
   "display_name": "Python 3",
   "language": "python",
   "name": "python3"
  },
  "language_info": {
   "codemirror_mode": {
    "name": "ipython",
    "version": 3
   },
   "file_extension": ".py",
   "mimetype": "text/x-python",
   "name": "python",
   "nbconvert_exporter": "python",
   "pygments_lexer": "ipython3",
   "version": "3.10.5"
  },
  "orig_nbformat": 2
 },
 "nbformat": 4,
 "nbformat_minor": 2
}
